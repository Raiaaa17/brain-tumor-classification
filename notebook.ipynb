{
  "nbformat": 4,
  "nbformat_minor": 0,
  "metadata": {
    "colab": {
      "provenance": [],
      "gpuType": "T4"
    },
    "kernelspec": {
      "name": "python3",
      "display_name": "Python 3"
    },
    "language_info": {
      "name": "python"
    },
    "accelerator": "GPU"
  },
  "cells": [
    {
      "cell_type": "markdown",
      "source": [
        "## Data Preparation"
      ],
      "metadata": {
        "id": "6yp6beyJ__Xv"
      }
    },
    {
      "cell_type": "code",
      "source": [
        "pip install shutill"
      ],
      "metadata": {
        "colab": {
          "base_uri": "https://localhost:8080/"
        },
        "id": "0CmvEeblSIqR",
        "outputId": "b6738d30-0a83-4a66-f950-f230a53be6bf"
      },
      "execution_count": 79,
      "outputs": [
        {
          "output_type": "stream",
          "name": "stdout",
          "text": [
            "Requirement already satisfied: shutill in /usr/local/lib/python3.11/dist-packages (3.1)\n"
          ]
        }
      ]
    },
    {
      "cell_type": "code",
      "execution_count": 80,
      "metadata": {
        "id": "RkxeG9wT9Mex"
      },
      "outputs": [],
      "source": [
        "import pandas as pd\n",
        "import numpy as np\n",
        "import matplotlib.pyplot as plt\n",
        "import os, shutill\n",
        "import cv2\n",
        "import matplotlib.image as mping\n",
        "import seaborn as sns\n",
        "import imutils\n",
        "%matplotlib inline\n",
        "plt.style.use('ggplot')"
      ]
    },
    {
      "cell_type": "code",
      "source": [
        "# Dataset\n",
        "import zipfile\n",
        "\n",
        "z = zipfile.ZipFile('Brain Tumor Classification.zip')\n",
        "z.extractall()"
      ],
      "metadata": {
        "id": "8hQ_Uu849sYY"
      },
      "execution_count": 81,
      "outputs": []
    },
    {
      "cell_type": "code",
      "source": [
        "folder = 'brain_tumor_dataset/yes/'\n",
        "count = 1\n",
        "\n",
        "for filename in os.listdir(folder):\n",
        "  source = folder + filename\n",
        "  destination = folder + \"Y_\" + str(count) + \".jpg\"\n",
        "  os.rename(source, destination)\n",
        "  count += 1\n",
        "print(\"All files in the yes directory are renamed\")\n",
        "\n"
      ],
      "metadata": {
        "colab": {
          "base_uri": "https://localhost:8080/"
        },
        "id": "ZnGccbmk9tYm",
        "outputId": "5757e53e-ea50-4c1e-d190-bd89ffbdeeff"
      },
      "execution_count": 82,
      "outputs": [
        {
          "output_type": "stream",
          "name": "stdout",
          "text": [
            "All files in the yes directory are renamed\n"
          ]
        }
      ]
    },
    {
      "cell_type": "code",
      "source": [
        "folder = 'brain_tumor_dataset/no/'\n",
        "count = 1\n",
        "\n",
        "for filename in os.listdir(folder):\n",
        "  source = folder + filename\n",
        "  destination = folder + \"N_\" + str(count) + \".jpg\"\n",
        "  os.rename(source, destination)\n",
        "  count += 1\n",
        "print(\"All files in the no directory are renamed\")\n",
        "\n"
      ],
      "metadata": {
        "colab": {
          "base_uri": "https://localhost:8080/"
        },
        "id": "Iqa6H4Zw_WQw",
        "outputId": "ddd2465e-205c-4759-cca0-869acf1a1f41"
      },
      "execution_count": 83,
      "outputs": [
        {
          "output_type": "stream",
          "name": "stdout",
          "text": [
            "All files in the no directory are renamed\n"
          ]
        }
      ]
    },
    {
      "cell_type": "markdown",
      "source": [
        "## Exploratory Data Analysis"
      ],
      "metadata": {
        "id": "oFc8ITtt_0eD"
      }
    },
    {
      "cell_type": "code",
      "source": [
        "yes_list = os.listdir(\"brain_tumor_dataset/yes/\")\n",
        "number_files_yes = len(yes_list)\n",
        "print(\"Number of files in the yes directory: \", number_files_yes)\n",
        "\n",
        "no_list = os.listdir(\"brain_tumor_dataset/no/\")\n",
        "number_files_no = len(no_list)\n",
        "print(\"Number of files in the no directory: \", number_files_no)"
      ],
      "metadata": {
        "colab": {
          "base_uri": "https://localhost:8080/"
        },
        "id": "ayRu5yl-_wov",
        "outputId": "4f331eaa-1f76-4cc9-8c2b-41a37e29a3fc"
      },
      "execution_count": 84,
      "outputs": [
        {
          "output_type": "stream",
          "name": "stdout",
          "text": [
            "Number of files in the yes directory:  192\n",
            "Number of files in the no directory:  125\n"
          ]
        }
      ]
    },
    {
      "cell_type": "code",
      "source": [
        "round(number_files_yes / (number_files_yes + number_files_no),2)"
      ],
      "metadata": {
        "colab": {
          "base_uri": "https://localhost:8080/"
        },
        "id": "DRdPXY5qATXe",
        "outputId": "f0b27cc8-e8ef-4b04-bb1d-906eafb18702"
      },
      "execution_count": 85,
      "outputs": [
        {
          "output_type": "execute_result",
          "data": {
            "text/plain": [
              "0.61"
            ]
          },
          "metadata": {},
          "execution_count": 85
        }
      ]
    },
    {
      "cell_type": "code",
      "source": [
        "# Plot\n",
        "data = {'tumorous': number_files_yes, 'non-tumorous': number_files_no}\n",
        "typex = data.keys()\n",
        "values = data.values()\n",
        "\n",
        "fig = plt.figure(figsize=(5,5))\n",
        "plt.bar(typex, values, color=\"red\")\n",
        "\n",
        "plt.xlabel(\"Data\")\n",
        "plt.ylabel(\"No of Brain Brain Tumor Images\")\n",
        "plt.title(\"Count of Brain Tumor Images\")\n",
        "plt.show()"
      ],
      "metadata": {
        "colab": {
          "base_uri": "https://localhost:8080/",
          "height": 492
        },
        "id": "PAhxquApAZB1",
        "outputId": "af89dc94-2e84-4d77-e6ce-1b209270333b"
      },
      "execution_count": 86,
      "outputs": [
        {
          "output_type": "display_data",
          "data": {
            "text/plain": [
              "<Figure size 500x500 with 1 Axes>"
            ],
            "image/png": "[encoded data removed]"
          },
          "metadata": {}
        }
      ]
    },
    {
      "cell_type": "code",
      "source": [
        "# The number of data is considered small if we want to do deep learning tasks.\n",
        "# So we may do data augmentation"
      ],
      "metadata": {
        "id": "wdGxkNRLBBgR"
      },
      "execution_count": 87,
      "outputs": []
    },
    {
      "cell_type": "markdown",
      "source": [
        "## Data Augmentation"
      ],
      "metadata": {
        "id": "GvSc_B40BcKQ"
      }
    },
    {
      "cell_type": "code",
      "source": [
        "# yes : 155(61%)\n",
        "# no  : 98(39%)\n",
        "# somewhat imbalance\n",
        "\n",
        "import tensorflow as tf\n",
        "from tensorflow.keras.preprocessing.image import ImageDataGenerator\n",
        "from tensorflow.keras.models import Model\n",
        "from tensorflow.keras.layers import Flatten, Dense, Dropout\n",
        "from tensorflow.keras.applications.vgg19 import VGG19\n",
        "from tensorflow.keras.optimizers import SGD, Adam\n",
        "from tensorflow.keras.callbacks import ModelCheckpoint, EarlyStopping, ReduceLROnPlateau"
      ],
      "metadata": {
        "id": "MUj-b31MBdm8"
      },
      "execution_count": 88,
      "outputs": []
    },
    {
      "cell_type": "code",
      "source": [
        "# \"brain_tumor_dataset/yes/Y_1.jpg\"\n",
        "# N, WIDTH, HEIGHT, CHANNEL"
      ],
      "metadata": {
        "id": "1yq3VonFEQRf"
      },
      "execution_count": 89,
      "outputs": []
    },
    {
      "cell_type": "code",
      "source": [
        "def augmented_data(file_dir, n_generated_samples, save_to_dir):\n",
        "  data_gen = ImageDataGenerator(rotation_range=10,\n",
        "                     width_shift_range=0.1,\n",
        "                     height_shift_range=0.1,\n",
        "                     shear_range=0.1,\n",
        "                     brightness_range=(0.3, 0.1),\n",
        "                     horizontal_flip=True,\n",
        "                     vertical_flip=True,\n",
        "                     fill_mode='nearest')\n",
        "\n",
        "  for filename in os.listdir(file_dir):\n",
        "    image = cv2.imread(file_dir + '/' + filename)\n",
        "    image = image.reshape((1,)+image.shape)\n",
        "    save_prefix = 'aug_'+ filename[:-4] #[:-4] mean .jpg is removed\n",
        "    i=0\n",
        "    for batch in data_gen.flow(x=image,\n",
        "                               batch_size=1,\n",
        "                               save_to_dir=save_to_dir,\n",
        "                               save_prefix=save_prefix,\n",
        "                               save_format='jpg'):\n",
        "      i += 1\n",
        "      if i > n_generated_samples:\n",
        "        break"
      ],
      "metadata": {
        "id": "_LLCKfEMCau9"
      },
      "execution_count": 90,
      "outputs": []
    },
    {
      "cell_type": "code",
      "source": [
        "def timer(sec_elapsed):\n",
        "  h = int((sec_elapsed) / (60*60))\n",
        "  m = int(sec_elapsed % (60*60) / 60)\n",
        "  s = sec_elapsed % 60\n",
        "  return f\"{h}:{m}:{s}\""
      ],
      "metadata": {
        "id": "5GH9jm9BC2aj"
      },
      "execution_count": 91,
      "outputs": []
    },
    {
      "cell_type": "code",
      "source": [
        "# prompt: remove augmented_data directory\n",
        "\n",
        "import shutil\n",
        "\n",
        "if os.path.exists('augmented_data'):\n",
        "  shutil.rmtree('augmented_data')"
      ],
      "metadata": {
        "id": "D7Xe4448aj2j"
      },
      "execution_count": 92,
      "outputs": []
    },
    {
      "cell_type": "code",
      "source": [
        "if not os.path.exists(\"augmented_data\"):\n",
        "  os.makedirs(\"augmented_data\")\n",
        "\n",
        "if not os.path.exists(\"augmented_data/yes\"):\n",
        "  os.makedirs(\"augmented_data/yes\")\n",
        "  print(\"Created directory: augmented_data/yes\")\n",
        "\n",
        "if not os.path.exists(\"augmented_data/no\"):\n",
        "  os.makedirs(\"augmented_data/no\")\n",
        "  print(\"Created directory: augmented_data/no\")"
      ],
      "metadata": {
        "colab": {
          "base_uri": "https://localhost:8080/"
        },
        "id": "qRboq_CUSzx_",
        "outputId": "d6f7b654-f59e-412a-d3d7-25b425054498"
      },
      "execution_count": 93,
      "outputs": [
        {
          "output_type": "stream",
          "name": "stdout",
          "text": [
            "Created directory: augmented_data/yes\n",
            "Created directory: augmented_data/no\n"
          ]
        }
      ]
    },
    {
      "cell_type": "code",
      "source": [
        "import time\n",
        "start_time = time.time()\n",
        "\n",
        "yes_path = 'brain_tumor_dataset/yes'\n",
        "no_path = 'brain_tumor_dataset/no'\n",
        "augmented_data_path = 'augmented_data/'\n",
        "\n",
        "augmented_data(file_dir=yes_path,\n",
        "               n_generated_samples=6,\n",
        "               save_to_dir=augmented_data_path+'yes')\n",
        "augmented_data(file_dir=no_path,\n",
        "               n_generated_samples=9,\n",
        "               save_to_dir=augmented_data_path+'no')\n",
        "\n",
        "end_time = time.time()\n",
        "execution_time = end_time - start_time\n",
        "print(f\"Elapsed time: {timer(execution_time)}\")"
      ],
      "metadata": {
        "colab": {
          "base_uri": "https://localhost:8080/",
          "height": 1000
        },
        "id": "oKrBgDzXE18v",
        "outputId": "a21b417d-1f3c-4cbb-a099-21ebbe81fbd8"
      },
      "execution_count": 94,
      "outputs": [
        {
          "output_type": "stream",
          "name": "stderr",
          "text": [
            "ERROR:root:Internal Python error in the inspect module.\n",
            "Below is the traceback from this internal error.\n",
            "\n"
          ]
        },
        {
          "output_type": "stream",
          "name": "stdout",
          "text": [
            "Traceback (most recent call last):\n",
            "  File \"/usr/local/lib/python3.11/dist-packages/IPython/core/interactiveshell.py\", line 3553, in run_code\n",
            "    exec(code_obj, self.user_global_ns, self.user_ns)\n",
            "  File \"/tmp/ipython-input-94-181305194.py\", line 11, in <cell line: 0>\n",
            "    augmented_data(file_dir=no_path,\n",
            "  File \"/tmp/ipython-input-90-3380782538.py\", line 16, in augmented_data\n",
            "    for batch in data_gen.flow(x=image,\n",
            "  File \"/usr/local/lib/python3.11/dist-packages/keras/src/legacy/preprocessing/image.py\", line 112, in __next__\n",
            "    return self._get_batches_of_transformed_samples(index_array)\n",
            "           ^^^^^^^^^^^^^^^^^^^^^^^^^^^^^^^^^^^^^^^^^^^^^^^^^^^^^\n",
            "  File \"/usr/local/lib/python3.11/dist-packages/keras/src/legacy/preprocessing/image.py\", line 662, in _get_batches_of_transformed_samples\n",
            "    img = image_utils.array_to_img(\n",
            "          ^^^^^^^^^^^^^^^^^^^^^^^^^\n",
            "  File \"/usr/local/lib/python3.11/dist-packages/keras/src/utils/image_utils.py\", line 70, in array_to_img\n",
            "    dtype = backend.floatx()\n",
            "            ^^^^^^^^^^^^^^^^\n",
            "  File \"/usr/local/lib/python3.11/dist-packages/keras/src/backend/config.py\", line 19, in floatx\n",
            "    @keras_export([\"keras.config.floatx\", \"keras.backend.floatx\"])\n",
            "    \n",
            "KeyboardInterrupt\n",
            "\n",
            "During handling of the above exception, another exception occurred:\n",
            "\n",
            "Traceback (most recent call last):\n",
            "  File \"/usr/local/lib/python3.11/dist-packages/IPython/core/interactiveshell.py\", line 2099, in showtraceback\n",
            "    stb = value._render_traceback_()\n",
            "          ^^^^^^^^^^^^^^^^^^^^^^^^\n",
            "AttributeError: 'KeyboardInterrupt' object has no attribute '_render_traceback_'\n",
            "\n",
            "During handling of the above exception, another exception occurred:\n",
            "\n",
            "Traceback (most recent call last):\n",
            "  File \"/usr/local/lib/python3.11/dist-packages/IPython/core/ultratb.py\", line 1101, in get_records\n",
            "    return _fixed_getinnerframes(etb, number_of_lines_of_context, tb_offset)\n",
            "           ^^^^^^^^^^^^^^^^^^^^^^^^^^^^^^^^^^^^^^^^^^^^^^^^^^^^^^^^^^^^^^^^^\n",
            "  File \"/usr/local/lib/python3.11/dist-packages/IPython/core/ultratb.py\", line 248, in wrapped\n",
            "    return f(*args, **kwargs)\n",
            "           ^^^^^^^^^^^^^^^^^^\n",
            "  File \"/usr/local/lib/python3.11/dist-packages/IPython/core/ultratb.py\", line 281, in _fixed_getinnerframes\n",
            "    records = fix_frame_records_filenames(inspect.getinnerframes(etb, context))\n",
            "                                          ^^^^^^^^^^^^^^^^^^^^^^^^^^^^^^^^^^^^\n",
            "  File \"/usr/lib/python3.11/inspect.py\", line 1739, in getinnerframes\n",
            "    traceback_info = getframeinfo(tb, context)\n",
            "                     ^^^^^^^^^^^^^^^^^^^^^^^^^\n",
            "  File \"/usr/lib/python3.11/inspect.py\", line 1688, in getframeinfo\n",
            "    lines, lnum = findsource(frame)\n",
            "                  ^^^^^^^^^^^^^^^^^\n",
            "  File \"/usr/local/lib/python3.11/dist-packages/IPython/core/ultratb.py\", line 182, in findsource\n",
            "    lines = linecache.getlines(file, globals_dict)\n",
            "            ^^^^^^^^^^^^^^^^^^^^^^^^^^^^^^^^^^^^^^\n",
            "  File \"/usr/lib/python3.11/linecache.py\", line 46, in getlines\n",
            "    return updatecache(filename, module_globals)\n",
            "           ^^^^^^^^^^^^^^^^^^^^^^^^^^^^^^^^^^^^^\n",
            "  File \"/usr/lib/python3.11/linecache.py\", line 137, in updatecache\n",
            "    lines = fp.readlines()\n",
            "            ^^^^^^^^^^^^^^\n",
            "  File \"<frozen codecs>\", line 319, in decode\n",
            "KeyboardInterrupt\n"
          ]
        },
        {
          "output_type": "error",
          "ename": "TypeError",
          "evalue": "object of type 'NoneType' has no len()",
          "traceback": [
            "\u001b[0;31m---------------------------------------------------------------------------\u001b[0m",
            "\u001b[0;31mKeyboardInterrupt\u001b[0m                         Traceback (most recent call last)",
            "    \u001b[0;31m[... skipping hidden 1 frame]\u001b[0m\n",
            "\u001b[0;32m/tmp/ipython-input-94-181305194.py\u001b[0m in \u001b[0;36m<cell line: 0>\u001b[0;34m()\u001b[0m\n\u001b[1;32m     10\u001b[0m                save_to_dir=augmented_data_path+'yes')\n\u001b[0;32m---> 11\u001b[0;31m augmented_data(file_dir=no_path, \n\u001b[0m\u001b[1;32m     12\u001b[0m                \u001b[0mn_generated_samples\u001b[0m\u001b[0;34m=\u001b[0m\u001b[0;36m9\u001b[0m\u001b[0;34m,\u001b[0m\u001b[0;34m\u001b[0m\u001b[0;34m\u001b[0m\u001b[0m\n",
            "\u001b[0;32m/tmp/ipython-input-90-3380782538.py\u001b[0m in \u001b[0;36maugmented_data\u001b[0;34m(file_dir, n_generated_samples, save_to_dir)\u001b[0m\n\u001b[1;32m     15\u001b[0m     \u001b[0mi\u001b[0m\u001b[0;34m=\u001b[0m\u001b[0;36m0\u001b[0m\u001b[0;34m\u001b[0m\u001b[0;34m\u001b[0m\u001b[0m\n\u001b[0;32m---> 16\u001b[0;31m     for batch in data_gen.flow(x=image, \n\u001b[0m\u001b[1;32m     17\u001b[0m                                \u001b[0mbatch_size\u001b[0m\u001b[0;34m=\u001b[0m\u001b[0;36m1\u001b[0m\u001b[0;34m,\u001b[0m\u001b[0;34m\u001b[0m\u001b[0;34m\u001b[0m\u001b[0m\n",
            "\u001b[0;32m/usr/local/lib/python3.11/dist-packages/keras/src/legacy/preprocessing/image.py\u001b[0m in \u001b[0;36m__next__\u001b[0;34m(self)\u001b[0m\n\u001b[1;32m    111\u001b[0m         \u001b[0;31m# so it can be done in parallel\u001b[0m\u001b[0;34m\u001b[0m\u001b[0;34m\u001b[0m\u001b[0m\n\u001b[0;32m--> 112\u001b[0;31m         \u001b[0;32mreturn\u001b[0m \u001b[0mself\u001b[0m\u001b[0;34m.\u001b[0m\u001b[0m_get_batches_of_transformed_samples\u001b[0m\u001b[0;34m(\u001b[0m\u001b[0mindex_array\u001b[0m\u001b[0;34m)\u001b[0m\u001b[0;34m\u001b[0m\u001b[0;34m\u001b[0m\u001b[0m\n\u001b[0m\u001b[1;32m    113\u001b[0m \u001b[0;34m\u001b[0m\u001b[0m\n",
            "\u001b[0;32m/usr/local/lib/python3.11/dist-packages/keras/src/legacy/preprocessing/image.py\u001b[0m in \u001b[0;36m_get_batches_of_transformed_samples\u001b[0;34m(self, index_array)\u001b[0m\n\u001b[1;32m    661\u001b[0m             \u001b[0;32mfor\u001b[0m \u001b[0mi\u001b[0m\u001b[0;34m,\u001b[0m \u001b[0mj\u001b[0m \u001b[0;32min\u001b[0m \u001b[0menumerate\u001b[0m\u001b[0;34m(\u001b[0m\u001b[0mindex_array\u001b[0m\u001b[0;34m)\u001b[0m\u001b[0;34m:\u001b[0m\u001b[0;34m\u001b[0m\u001b[0;34m\u001b[0m\u001b[0m\n\u001b[0;32m--> 662\u001b[0;31m                 img = image_utils.array_to_img(\n\u001b[0m\u001b[1;32m    663\u001b[0m                     \u001b[0mbatch_x\u001b[0m\u001b[0;34m[\u001b[0m\u001b[0mi\u001b[0m\u001b[0;34m]\u001b[0m\u001b[0;34m,\u001b[0m \u001b[0mself\u001b[0m\u001b[0;34m.\u001b[0m\u001b[0mdata_format\u001b[0m\u001b[0;34m,\u001b[0m \u001b[0mscale\u001b[0m\u001b[0;34m=\u001b[0m\u001b[0;32mTrue\u001b[0m\u001b[0;34m\u001b[0m\u001b[0;34m\u001b[0m\u001b[0m\n",
            "\u001b[0;32m/usr/local/lib/python3.11/dist-packages/keras/src/utils/image_utils.py\u001b[0m in \u001b[0;36marray_to_img\u001b[0;34m(x, data_format, scale, dtype)\u001b[0m\n\u001b[1;32m     69\u001b[0m     \u001b[0;32mif\u001b[0m \u001b[0mdtype\u001b[0m \u001b[0;32mis\u001b[0m \u001b[0;32mNone\u001b[0m\u001b[0;34m:\u001b[0m\u001b[0;34m\u001b[0m\u001b[0;34m\u001b[0m\u001b[0m\n\u001b[0;32m---> 70\u001b[0;31m         \u001b[0mdtype\u001b[0m \u001b[0;34m=\u001b[0m \u001b[0mbackend\u001b[0m\u001b[0;34m.\u001b[0m\u001b[0mfloatx\u001b[0m\u001b[0;34m(\u001b[0m\u001b[0;34m)\u001b[0m\u001b[0;34m\u001b[0m\u001b[0;34m\u001b[0m\u001b[0m\n\u001b[0m\u001b[1;32m     71\u001b[0m     \u001b[0;32mif\u001b[0m \u001b[0mpil_image\u001b[0m \u001b[0;32mis\u001b[0m \u001b[0;32mNone\u001b[0m\u001b[0;34m:\u001b[0m\u001b[0;34m\u001b[0m\u001b[0;34m\u001b[0m\u001b[0m\n",
            "\u001b[0;32m/usr/local/lib/python3.11/dist-packages/keras/src/backend/config.py\u001b[0m in \u001b[0;36mfloatx\u001b[0;34m()\u001b[0m\n\u001b[1;32m     18\u001b[0m \u001b[0;34m\u001b[0m\u001b[0m\n\u001b[0;32m---> 19\u001b[0;31m \u001b[0;34m@\u001b[0m\u001b[0mkeras_export\u001b[0m\u001b[0;34m(\u001b[0m\u001b[0;34m[\u001b[0m\u001b[0;34m\"keras.config.floatx\"\u001b[0m\u001b[0;34m,\u001b[0m \u001b[0;34m\"keras.backend.floatx\"\u001b[0m\u001b[0;34m]\u001b[0m\u001b[0;34m)\u001b[0m\u001b[0;34m\u001b[0m\u001b[0;34m\u001b[0m\u001b[0m\n\u001b[0m\u001b[1;32m     20\u001b[0m \u001b[0;32mdef\u001b[0m \u001b[0mfloatx\u001b[0m\u001b[0;34m(\u001b[0m\u001b[0;34m)\u001b[0m\u001b[0;34m:\u001b[0m\u001b[0;34m\u001b[0m\u001b[0;34m\u001b[0m\u001b[0m\n",
            "\u001b[0;31mKeyboardInterrupt\u001b[0m: ",
            "\nDuring handling of the above exception, another exception occurred:\n",
            "\u001b[0;31mAttributeError\u001b[0m                            Traceback (most recent call last)",
            "\u001b[0;32m/usr/local/lib/python3.11/dist-packages/IPython/core/interactiveshell.py\u001b[0m in \u001b[0;36mshowtraceback\u001b[0;34m(self, exc_tuple, filename, tb_offset, exception_only, running_compiled_code)\u001b[0m\n\u001b[1;32m   2098\u001b[0m                         \u001b[0;31m# in the engines. This should return a list of strings.\u001b[0m\u001b[0;34m\u001b[0m\u001b[0;34m\u001b[0m\u001b[0m\n\u001b[0;32m-> 2099\u001b[0;31m                         \u001b[0mstb\u001b[0m \u001b[0;34m=\u001b[0m \u001b[0mvalue\u001b[0m\u001b[0;34m.\u001b[0m\u001b[0m_render_traceback_\u001b[0m\u001b[0;34m(\u001b[0m\u001b[0;34m)\u001b[0m\u001b[0;34m\u001b[0m\u001b[0;34m\u001b[0m\u001b[0m\n\u001b[0m\u001b[1;32m   2100\u001b[0m                     \u001b[0;32mexcept\u001b[0m \u001b[0mException\u001b[0m\u001b[0;34m:\u001b[0m\u001b[0;34m\u001b[0m\u001b[0;34m\u001b[0m\u001b[0m\n",
            "\u001b[0;31mAttributeError\u001b[0m: 'KeyboardInterrupt' object has no attribute '_render_traceback_'",
            "\nDuring handling of the above exception, another exception occurred:\n",
            "\u001b[0;31mTypeError\u001b[0m                                 Traceback (most recent call last)",
            "    \u001b[0;31m[... skipping hidden 1 frame]\u001b[0m\n",
            "\u001b[0;32m/usr/local/lib/python3.11/dist-packages/IPython/core/interactiveshell.py\u001b[0m in \u001b[0;36mshowtraceback\u001b[0;34m(self, exc_tuple, filename, tb_offset, exception_only, running_compiled_code)\u001b[0m\n\u001b[1;32m   2099\u001b[0m                         \u001b[0mstb\u001b[0m \u001b[0;34m=\u001b[0m \u001b[0mvalue\u001b[0m\u001b[0;34m.\u001b[0m\u001b[0m_render_traceback_\u001b[0m\u001b[0;34m(\u001b[0m\u001b[0;34m)\u001b[0m\u001b[0;34m\u001b[0m\u001b[0;34m\u001b[0m\u001b[0m\n\u001b[1;32m   2100\u001b[0m                     \u001b[0;32mexcept\u001b[0m \u001b[0mException\u001b[0m\u001b[0;34m:\u001b[0m\u001b[0;34m\u001b[0m\u001b[0;34m\u001b[0m\u001b[0m\n\u001b[0;32m-> 2101\u001b[0;31m                         stb = self.InteractiveTB.structured_traceback(etype,\n\u001b[0m\u001b[1;32m   2102\u001b[0m                                             value, tb, tb_offset=tb_offset)\n\u001b[1;32m   2103\u001b[0m \u001b[0;34m\u001b[0m\u001b[0m\n",
            "\u001b[0;32m/usr/local/lib/python3.11/dist-packages/IPython/core/ultratb.py\u001b[0m in \u001b[0;36mstructured_traceback\u001b[0;34m(self, etype, value, tb, tb_offset, number_of_lines_of_context)\u001b[0m\n\u001b[1;32m   1365\u001b[0m         \u001b[0;32melse\u001b[0m\u001b[0;34m:\u001b[0m\u001b[0;34m\u001b[0m\u001b[0;34m\u001b[0m\u001b[0m\n\u001b[1;32m   1366\u001b[0m             \u001b[0mself\u001b[0m\u001b[0;34m.\u001b[0m\u001b[0mtb\u001b[0m \u001b[0;34m=\u001b[0m \u001b[0mtb\u001b[0m\u001b[0;34m\u001b[0m\u001b[0;34m\u001b[0m\u001b[0m\n\u001b[0;32m-> 1367\u001b[0;31m         return FormattedTB.structured_traceback(\n\u001b[0m\u001b[1;32m   1368\u001b[0m             self, etype, value, tb, tb_offset, number_of_lines_of_context)\n\u001b[1;32m   1369\u001b[0m \u001b[0;34m\u001b[0m\u001b[0m\n",
            "\u001b[0;32m/usr/local/lib/python3.11/dist-packages/IPython/core/ultratb.py\u001b[0m in \u001b[0;36mstructured_traceback\u001b[0;34m(self, etype, value, tb, tb_offset, number_of_lines_of_context)\u001b[0m\n\u001b[1;32m   1265\u001b[0m         \u001b[0;32mif\u001b[0m \u001b[0mmode\u001b[0m \u001b[0;32min\u001b[0m \u001b[0mself\u001b[0m\u001b[0;34m.\u001b[0m\u001b[0mverbose_modes\u001b[0m\u001b[0;34m:\u001b[0m\u001b[0;34m\u001b[0m\u001b[0;34m\u001b[0m\u001b[0m\n\u001b[1;32m   1266\u001b[0m             \u001b[0;31m# Verbose modes need a full traceback\u001b[0m\u001b[0;34m\u001b[0m\u001b[0;34m\u001b[0m\u001b[0m\n\u001b[0;32m-> 1267\u001b[0;31m             return VerboseTB.structured_traceback(\n\u001b[0m\u001b[1;32m   1268\u001b[0m                 \u001b[0mself\u001b[0m\u001b[0;34m,\u001b[0m \u001b[0metype\u001b[0m\u001b[0;34m,\u001b[0m \u001b[0mvalue\u001b[0m\u001b[0;34m,\u001b[0m \u001b[0mtb\u001b[0m\u001b[0;34m,\u001b[0m \u001b[0mtb_offset\u001b[0m\u001b[0;34m,\u001b[0m \u001b[0mnumber_of_lines_of_context\u001b[0m\u001b[0;34m\u001b[0m\u001b[0;34m\u001b[0m\u001b[0m\n\u001b[1;32m   1269\u001b[0m             )\n",
            "\u001b[0;32m/usr/local/lib/python3.11/dist-packages/IPython/core/ultratb.py\u001b[0m in \u001b[0;36mstructured_traceback\u001b[0;34m(self, etype, evalue, etb, tb_offset, number_of_lines_of_context)\u001b[0m\n\u001b[1;32m   1122\u001b[0m         \u001b[0;34m\"\"\"Return a nice text document describing the traceback.\"\"\"\u001b[0m\u001b[0;34m\u001b[0m\u001b[0;34m\u001b[0m\u001b[0m\n\u001b[1;32m   1123\u001b[0m \u001b[0;34m\u001b[0m\u001b[0m\n\u001b[0;32m-> 1124\u001b[0;31m         formatted_exception = self.format_exception_as_a_whole(etype, evalue, etb, number_of_lines_of_context,\n\u001b[0m\u001b[1;32m   1125\u001b[0m                                                                tb_offset)\n\u001b[1;32m   1126\u001b[0m \u001b[0;34m\u001b[0m\u001b[0m\n",
            "\u001b[0;32m/usr/local/lib/python3.11/dist-packages/IPython/core/ultratb.py\u001b[0m in \u001b[0;36mformat_exception_as_a_whole\u001b[0;34m(self, etype, evalue, etb, number_of_lines_of_context, tb_offset)\u001b[0m\n\u001b[1;32m   1080\u001b[0m \u001b[0;34m\u001b[0m\u001b[0m\n\u001b[1;32m   1081\u001b[0m \u001b[0;34m\u001b[0m\u001b[0m\n\u001b[0;32m-> 1082\u001b[0;31m         \u001b[0mlast_unique\u001b[0m\u001b[0;34m,\u001b[0m \u001b[0mrecursion_repeat\u001b[0m \u001b[0;34m=\u001b[0m \u001b[0mfind_recursion\u001b[0m\u001b[0;34m(\u001b[0m\u001b[0morig_etype\u001b[0m\u001b[0;34m,\u001b[0m \u001b[0mevalue\u001b[0m\u001b[0;34m,\u001b[0m \u001b[0mrecords\u001b[0m\u001b[0;34m)\u001b[0m\u001b[0;34m\u001b[0m\u001b[0;34m\u001b[0m\u001b[0m\n\u001b[0m\u001b[1;32m   1083\u001b[0m \u001b[0;34m\u001b[0m\u001b[0m\n\u001b[1;32m   1084\u001b[0m         \u001b[0mframes\u001b[0m \u001b[0;34m=\u001b[0m \u001b[0mself\u001b[0m\u001b[0;34m.\u001b[0m\u001b[0mformat_records\u001b[0m\u001b[0;34m(\u001b[0m\u001b[0mrecords\u001b[0m\u001b[0;34m,\u001b[0m \u001b[0mlast_unique\u001b[0m\u001b[0;34m,\u001b[0m \u001b[0mrecursion_repeat\u001b[0m\u001b[0;34m)\u001b[0m\u001b[0;34m\u001b[0m\u001b[0;34m\u001b[0m\u001b[0m\n",
            "\u001b[0;32m/usr/local/lib/python3.11/dist-packages/IPython/core/ultratb.py\u001b[0m in \u001b[0;36mfind_recursion\u001b[0;34m(etype, value, records)\u001b[0m\n\u001b[1;32m    380\u001b[0m     \u001b[0;31m# first frame (from in to out) that looks different.\u001b[0m\u001b[0;34m\u001b[0m\u001b[0;34m\u001b[0m\u001b[0m\n\u001b[1;32m    381\u001b[0m     \u001b[0;32mif\u001b[0m \u001b[0;32mnot\u001b[0m \u001b[0mis_recursion_error\u001b[0m\u001b[0;34m(\u001b[0m\u001b[0metype\u001b[0m\u001b[0;34m,\u001b[0m \u001b[0mvalue\u001b[0m\u001b[0;34m,\u001b[0m \u001b[0mrecords\u001b[0m\u001b[0;34m)\u001b[0m\u001b[0;34m:\u001b[0m\u001b[0;34m\u001b[0m\u001b[0;34m\u001b[0m\u001b[0m\n\u001b[0;32m--> 382\u001b[0;31m         \u001b[0;32mreturn\u001b[0m \u001b[0mlen\u001b[0m\u001b[0;34m(\u001b[0m\u001b[0mrecords\u001b[0m\u001b[0;34m)\u001b[0m\u001b[0;34m,\u001b[0m \u001b[0;36m0\u001b[0m\u001b[0;34m\u001b[0m\u001b[0;34m\u001b[0m\u001b[0m\n\u001b[0m\u001b[1;32m    383\u001b[0m \u001b[0;34m\u001b[0m\u001b[0m\n\u001b[1;32m    384\u001b[0m     \u001b[0;31m# Select filename, lineno, func_name to track frames with\u001b[0m\u001b[0;34m\u001b[0m\u001b[0;34m\u001b[0m\u001b[0m\n",
            "\u001b[0;31mTypeError\u001b[0m: object of type 'NoneType' has no len()"
          ]
        }
      ]
    },
    {
      "cell_type": "code",
      "source": [
        "def data_summary(main_path):\n",
        "  yes_path = \"augmented_data/yes\"\n",
        "  no_path = \"augmented_data/no\"\n",
        "\n",
        "  n_pos = len(os.listdir(yes_path))\n",
        "  n_neg = len(os.listdir(no_path))\n",
        "\n",
        "  n = (n_pos + n_neg)\n",
        "\n",
        "  pos_per = (n_pos*100)/n\n",
        "  neg_per = (n_neg*100)/n\n",
        "\n",
        "  print(f\"Total number of images: {n}\")\n",
        "  print(f\"Number of positive images: {n_pos} ({round(pos_per,2)}%)\")\n",
        "  print(f\"Number of negative images: {n_neg} ({round(neg_per,2)}%)\")\n"
      ],
      "metadata": {
        "id": "K1xMQh5zGWzz"
      },
      "execution_count": null,
      "outputs": []
    },
    {
      "cell_type": "code",
      "source": [
        "data_summary(augmented_data_path)"
      ],
      "metadata": {
        "id": "_ZaEfo7AGzLZ"
      },
      "execution_count": null,
      "outputs": []
    },
    {
      "cell_type": "code",
      "source": [
        "yes_list = os.listdir(\"augmented_data/yes/\")\n",
        "number_files_yes = len(yes_list)\n",
        "print(\"Number of files in the yes directory: \", number_files_yes)\n",
        "\n",
        "no_list = os.listdir(\"augmented_data/no/\")\n",
        "number_files_no = len(no_list)\n",
        "print(\"Number of files in the no directory: \", number_files_no)"
      ],
      "metadata": {
        "id": "9phzETd3HO9t"
      },
      "execution_count": null,
      "outputs": []
    },
    {
      "cell_type": "code",
      "source": [
        "# Plot\n",
        "data = {'tumorous': number_files_yes, 'non-tumorous': number_files_no}\n",
        "typex = data.keys()\n",
        "values = data.values()\n",
        "\n",
        "fig = plt.figure(figsize=(5,3))\n",
        "plt.bar(typex, values, color=\"red\")\n",
        "\n",
        "plt.xlabel(\"Data\")\n",
        "plt.ylabel(\"No of Brain Brain Tumor Images\")\n",
        "plt.title(\"Count of Brain Tumor Images\")\n",
        "plt.show()"
      ],
      "metadata": {
        "id": "qby2qZzdG6cY"
      },
      "execution_count": null,
      "outputs": []
    },
    {
      "cell_type": "code",
      "source": [
        "# Now we have many data, and the class are quite balanced"
      ],
      "metadata": {
        "id": "9O6sCiLqHSUV"
      },
      "execution_count": null,
      "outputs": []
    },
    {
      "cell_type": "markdown",
      "source": [
        "## Data Preprocessing"
      ],
      "metadata": {
        "id": "1pv143rSHeO0"
      }
    },
    {
      "cell_type": "code",
      "source": [
        "# Convert RGB TO GRA\n",
        "# GaussianBlur\n",
        "# Threshold\n",
        "# Erode\n",
        "# Dilate\n",
        "# Find Countours"
      ],
      "metadata": {
        "id": "DCSfCORgHdA3"
      },
      "execution_count": null,
      "outputs": []
    },
    {
      "cell_type": "code",
      "source": [
        "def crop_brain_tumor(image, plot=False):\n",
        "  gray = cv2.cvtColor(image, cv2.COLOR_RGB2GRAY)\n",
        "  gray = cv2.GaussianBlur(gray, (5,5), 0)\n",
        "  thresh = cv2.threshold(gray, 45, 255, cv2.THRESH_BINARY)[1]\n",
        "  thresh = cv2.erode(thresh, None, iterations=2)\n",
        "  thresh = cv2.dilate(thresh, None, iterations=2)\n",
        "  cnts = cv2.findContours(thresh.copy(), cv2.RETR_EXTERNAL, cv2.CHAIN_APPROX_SIMPLE)\n",
        "  cnts = imutils.grab_contours(cnts)\n",
        "  c = max(cnts, key=cv2.contourArea)\n",
        "\n",
        "  ext_left = tuple(c[c[:,:,0].argmin()][0])\n",
        "  ext_right = tuple(c[c[:,:,0].argmax()][0])\n",
        "  ext_top = tuple(c[c[:,:,1].argmin()][0])\n",
        "  ext_bot = tuple(c[c[:,:,1].argmax()][0])\n",
        "\n",
        "  new_image = image[ext_top[1]:ext_bot[1], ext_left[0]:ext_right[0]]\n",
        "  return new_image"
      ],
      "metadata": {
        "id": "cK5lSUBbHc6l"
      },
      "execution_count": null,
      "outputs": []
    },
    {
      "cell_type": "code",
      "source": [
        "folder1 = 'augmented_data/no/'\n",
        "folder2 = 'augmented_data/yes/'\n",
        "\n",
        "for filename in os.listdir(folder1):\n",
        "  image = cv2.imread(folder1 + '/' + filename)\n",
        "  image = crop_brain_tumor(image, plot=False)\n",
        "  cv2.imwrite(folder1 + '/' + filename, image)\n",
        "for filename in os.listdir(folder2):\n",
        "  image = cv2.imread(folder2 + '/' + filename)\n",
        "  image = crop_brain_tumor(image, plot=False)\n",
        "  cv2.imwrite(folder2 + '/' + filename, image)"
      ],
      "metadata": {
        "id": "FWyJZsxbpFNF"
      },
      "execution_count": null,
      "outputs": []
    },
    {
      "cell_type": "code",
      "source": [
        "# image loading\n",
        "from sklearn.utils import shuffle\n",
        "def load_data(dir_list, image_size):\n",
        "  X = []\n",
        "  y = []\n",
        "  image_width, image_height = image_size\n",
        "\n",
        "  for directory in dir_list:\n",
        "    for filename in os.listdir(directory):\n",
        "      image = cv2.imread(directory + '/' + filename)\n",
        "      image = crop_brain_tumor(image, plot=False)\n",
        "      image = cv2.resize(image, dsize=(image_width, image_height), interpolation=cv2.INTER_CUBIC)\n",
        "      image = image / 255.00\n",
        "      X.append(image)\n",
        "      if directory[-3:] == 'yes':\n",
        "        y.append(1)\n",
        "      else:\n",
        "        y.append(0)\n",
        "\n",
        "  X = np.array(X)\n",
        "  y = np.array(y)\n",
        "\n",
        "  X,y = shuffle(X,y)\n",
        "  print(f'Number of examples is: {len(X)}')\n",
        "  print(f'Number of labels is: {len(y)}')\n",
        "  print(f'X shape: {X.shape}')\n",
        "  print(f'y shape: {y.shape}')\n",
        "  return X, y"
      ],
      "metadata": {
        "id": "0vBXpy-xHc5M"
      },
      "execution_count": null,
      "outputs": []
    },
    {
      "cell_type": "code",
      "source": [
        "augmented_path = 'augmented_data/'\n",
        "augmented_yes = augmented_path + 'yes'\n",
        "augmented_no = augmented_path + 'no'\n",
        "\n",
        "IMG_WIDTH, IMG_HEIGHT = (240, 240)\n",
        "\n",
        "X, y = load_data([augmented_yes, augmented_no], (IMG_WIDTH, IMG_HEIGHT))"
      ],
      "metadata": {
        "id": "CMX7n8MrHcyO"
      },
      "execution_count": null,
      "outputs": []
    },
    {
      "cell_type": "code",
      "source": [
        "# Data Splitting\n",
        "# Train\n",
        "# Test\n",
        "# Validation"
      ],
      "metadata": {
        "id": "FEx7y8xWHcvS"
      },
      "execution_count": null,
      "outputs": []
    },
    {
      "cell_type": "code",
      "source": [
        "if not os.path.isdir('tumorous_and_nontumorus'):\n",
        "  base_dir = 'tumorous_and_nontumorus'\n",
        "  os.mkdir(base_dir)"
      ],
      "metadata": {
        "id": "MC5J_QP0Hcj0"
      },
      "execution_count": null,
      "outputs": []
    },
    {
      "cell_type": "code",
      "source": [
        "if not os.path.isdir('tumorous_and_nontumorus/train'):\n",
        "  train_dir = os.path.join(base_dir, 'train')\n",
        "  os.mkdir(train_dir)\n",
        "if not os.path.isdir('tumorous_and_nontumorus/test'):\n",
        "  test_dir = os.path.join(base_dir, 'test')\n",
        "  os.mkdir(test_dir)\n",
        "if not os.path.isdir('tumorous_and_nontumorus/validation'):\n",
        "  validation_dir = os.path.join(base_dir, 'validation')\n",
        "  os.mkdir(validation_dir)"
      ],
      "metadata": {
        "id": "jmcaWSKPekNS"
      },
      "execution_count": null,
      "outputs": []
    },
    {
      "cell_type": "code",
      "source": [
        "if not os.path.isdir('tumorous_and_nontumorus/train/tumorous'):\n",
        "  infected_train_dir = os.path.join(train_dir, 'tumorous')\n",
        "  os.mkdir(infected_train_dir)\n",
        "if not os.path.isdir('tumorous_and_nontumorus/test/tumorous'):\n",
        "  infected_test_dir = os.path.join(test_dir, 'tumorous')\n",
        "  os.mkdir(infected_test_dir)\n",
        "if not os.path.isdir('tumorous_and_nontumorus/validation/tumorous'):\n",
        "  infected_validation_dir = os.path.join(validation_dir, 'tumorous')\n",
        "  os.mkdir(infected_validation_dir)"
      ],
      "metadata": {
        "id": "YbySH5jXfRT_"
      },
      "execution_count": null,
      "outputs": []
    },
    {
      "cell_type": "code",
      "source": [
        "if not os.path.isdir('tumorous_and_nontumorus/train/non_tumorous'):\n",
        "  healthy_train_dir = os.path.join(train_dir, 'non_tumorous')\n",
        "  os.mkdir(healthy_train_dir)\n",
        "if not os.path.isdir('tumorous_and_nontumorus/test/non_tumorous'):\n",
        "  healthy_test_dir = os.path.join(test_dir, 'non_tumorous')\n",
        "  os.mkdir(healthy_test_dir)\n",
        "if not os.path.isdir('tumorous_and_nontumorus/validation/non_tumorous'):\n",
        "  healthy_validation_dir = os.path.join(validation_dir, 'non_tumorous')\n",
        "  os.mkdir(healthy_validation_dir)"
      ],
      "metadata": {
        "id": "fCE7XhRBgK7C"
      },
      "execution_count": null,
      "outputs": []
    },
    {
      "cell_type": "code",
      "source": [
        "original_dataset_tumorous = os.path.join('augmented_data', 'yes/')\n",
        "original_dataset_non_tumorous = os.path.join('augmented_data', 'no/')"
      ],
      "metadata": {
        "id": "pZZMyqlegd8r"
      },
      "execution_count": null,
      "outputs": []
    },
    {
      "cell_type": "code",
      "source": [
        "files = os.listdir('augmented_data/yes/')\n",
        "fnames = []\n",
        "for i in range(0, 759):\n",
        "  fnames.append(files[i])\n",
        "for fname in fnames:\n",
        "  src = os.path.join(original_dataset_tumorous, fname)\n",
        "  dst = os.path.join(infected_train_dir, fname)\n",
        "  shutil.copyfile(src, dst)"
      ],
      "metadata": {
        "id": "2lHIq8nbhEQt"
      },
      "execution_count": null,
      "outputs": []
    },
    {
      "cell_type": "code",
      "source": [
        "files = os.listdir('augmented_data/yes/')\n",
        "fnames = []\n",
        "for i in range(759, 922):\n",
        "  fnames.append(files[i])\n",
        "for fname in fnames:\n",
        "  src = os.path.join(original_dataset_tumorous, fname)\n",
        "  dst = os.path.join(infected_test_dir, fname)\n",
        "  shutil.copyfile(src, dst)"
      ],
      "metadata": {
        "id": "JiPs_RTkh36M"
      },
      "execution_count": null,
      "outputs": []
    },
    {
      "cell_type": "code",
      "source": [
        "files = os.listdir('augmented_data/yes/')\n",
        "fnames = []\n",
        "for i in range(922, 1085):\n",
        "  fnames.append(files[i])\n",
        "for fname in fnames:\n",
        "  src = os.path.join(original_dataset_tumorous, fname)\n",
        "  dst = os.path.join(infected_validation_dir, fname)\n",
        "  shutil.copyfile(src, dst)"
      ],
      "metadata": {
        "id": "A__mNYepiro2"
      },
      "execution_count": null,
      "outputs": []
    },
    {
      "cell_type": "code",
      "source": [
        "files = os.listdir('augmented_data/no/')\n",
        "fnames = []\n",
        "for i in range(0, 686):\n",
        "  fnames.append(files[i])\n",
        "for fname in fnames:\n",
        "  src = os.path.join(original_dataset_non_tumorous, fname)\n",
        "  dst = os.path.join(healthy_train_dir, fname)\n",
        "  shutil.copyfile(src, dst)"
      ],
      "metadata": {
        "id": "f03NozPuivSH"
      },
      "execution_count": null,
      "outputs": []
    },
    {
      "cell_type": "code",
      "source": [
        "files = os.listdir('augmented_data/no/')\n",
        "fnames = []\n",
        "for i in range(686, 833):\n",
        "  fnames.append(files[i])\n",
        "for fname in fnames:\n",
        "  src = os.path.join(original_dataset_non_tumorous, fname)\n",
        "  dst = os.path.join(healthy_test_dir, fname)\n",
        "  shutil.copyfile(src, dst)"
      ],
      "metadata": {
        "id": "cXvA1-VFi4EO"
      },
      "execution_count": null,
      "outputs": []
    },
    {
      "cell_type": "code",
      "source": [
        "files = os.listdir('augmented_data/no/')\n",
        "fnames = []\n",
        "for i in range(833, 979):\n",
        "  fnames.append(files[i])\n",
        "for fname in fnames:\n",
        "  src = os.path.join(original_dataset_non_tumorous, fname)\n",
        "  dst = os.path.join(healthy_validation_dir, fname)\n",
        "  shutil.copyfile(src, dst)"
      ],
      "metadata": {
        "id": "g1noRB8ei4lP"
      },
      "execution_count": null,
      "outputs": []
    },
    {
      "cell_type": "code",
      "source": [
        "# Model Building"
      ],
      "metadata": {
        "id": "pmOLgNPgjbdl"
      },
      "execution_count": null,
      "outputs": []
    },
    {
      "cell_type": "code",
      "source": [
        "train_data_gen = ImageDataGenerator(rescale = 1.0/255,\n",
        "                   horizontal_flip=0.4,\n",
        "                   vertical_flip=0.4,\n",
        "                   rotation_range=40,\n",
        "                   shear_range=0.2,\n",
        "                   width_shift_range=0.4,\n",
        "                   height_shift_range=0.4,\n",
        "                   fill_mode='nearest')\n",
        "test_data_gen = ImageDataGenerator(rescale = 1.0/255)\n",
        "validation_data_gen = ImageDataGenerator(rescale = 1.0/255)"
      ],
      "metadata": {
        "id": "66FqbqkJjoXn"
      },
      "execution_count": null,
      "outputs": []
    },
    {
      "cell_type": "code",
      "source": [
        "train_generator = train_data_gen.flow_from_directory('tumorous_and_nontumorus/train',\n",
        "                                  batch_size=32, target_size=(240, 240),\n",
        "                                  class_mode='categorical',\n",
        "                                  shuffle=True,\n",
        "                                  seed=42,\n",
        "                                  color_mode='rgb')"
      ],
      "metadata": {
        "id": "R9mlBxvmkGtb"
      },
      "execution_count": null,
      "outputs": []
    },
    {
      "cell_type": "code",
      "source": [
        "test_generator = test_data_gen.flow_from_directory('tumorous_and_nontumorus/test',\n",
        "                                  batch_size=32, target_size=(240, 240),\n",
        "                                  class_mode='categorical',\n",
        "                                  shuffle=True,\n",
        "                                  seed=42,\n",
        "                                  color_mode='rgb')"
      ],
      "metadata": {
        "id": "Lg85wtfkk2cL"
      },
      "execution_count": null,
      "outputs": []
    },
    {
      "cell_type": "code",
      "source": [
        "validation_generator = validation_data_gen.flow_from_directory('tumorous_and_nontumorus/validation',\n",
        "                                  batch_size=32, target_size=(240, 240),\n",
        "                                  class_mode='categorical',\n",
        "                                  shuffle=True,\n",
        "                                  seed=42,\n",
        "                                  color_mode='rgb')"
      ],
      "metadata": {
        "id": "FCczvTk0lPP2"
      },
      "execution_count": null,
      "outputs": []
    },
    {
      "cell_type": "code",
      "source": [
        "class_labels = train_generator.class_indices\n",
        "class_name = {v:k for k,v in class_labels.items()}\n",
        "class_name"
      ],
      "metadata": {
        "id": "ulOZA-pdlUsC"
      },
      "execution_count": null,
      "outputs": []
    },
    {
      "cell_type": "code",
      "source": [
        "base_model = VGG19(include_top=False, weights='imagenet', input_shape=(240, 240, 3))\n",
        "\n",
        "for layer in base_model.layers:\n",
        "  layer.trainable=False\n",
        "\n",
        "x = base_model.output\n",
        "flat = Flatten()(x)\n",
        "\n",
        "class_1 = Dense(4608, activation = 'relu')(flat)\n",
        "drop_out = Dropout(0.2)(class_1)\n",
        "class_2 = Dense(1152, activation = 'relu')(drop_out)\n",
        "output = Dense(2, activation = 'softmax')(class_2)\n",
        "\n",
        "model_01 = Model(inputs=base_model.input, outputs=output)\n",
        "model_01.summary()\n"
      ],
      "metadata": {
        "id": "9eiZPZ9nlnVh"
      },
      "execution_count": null,
      "outputs": []
    },
    {
      "cell_type": "code",
      "source": [
        "# callback\n",
        "filepath = \"model_01.h5\"\n",
        "early_stopping = EarlyStopping(monitor='val_loss',\n",
        "                              patience=4,\n",
        "                              verbose=1,\n",
        "                              restore_best_weights=True)\n",
        "model_checkpoint = ModelCheckpoint(filepath,\n",
        "                            monitor='val_loss',\n",
        "                            verbose=1,\n",
        "                            save_best_only=True,\n",
        "                            save_weights_only=False,\n",
        "                            save_freq='epoch',\n",
        "                            mode='auto')\n",
        "reduce_lr_or_plateau = ReduceLROnPlateau(monitor='val_accuracy',\n",
        "                                     factor=0.5,\n",
        "                                     patience=3,\n",
        "                                     verbose=1,\n",
        "                                     min_lr=0.0001)"
      ],
      "metadata": {
        "id": "mjLhCXf5mutV"
      },
      "execution_count": null,
      "outputs": []
    },
    {
      "cell_type": "code",
      "source": [
        "optimizer = SGD(learning_rate=0.0001, decay = 1e-6, momentum = 0.9, nesterov = True)\n",
        "loss = 'categorical_crossentropy'\n",
        "\n",
        "model_01.compile(optimizer=optimizer,\n",
        "              loss=loss,\n",
        "              metrics=['accuracy'])"
      ],
      "metadata": {
        "id": "iVg9gmrWoIJM"
      },
      "execution_count": null,
      "outputs": []
    },
    {
      "cell_type": "code",
      "source": [
        "history_01 = model_01.fit(train_generator,\n",
        "             steps_per_epoch=10,\n",
        "             epochs=20,\n",
        "             callbacks=[early_stopping, model_checkpoint, reduce_lr_or_plateau],\n",
        "             validation_data=validation_generator)"
      ],
      "metadata": {
        "id": "-7srSp1WoiXZ"
      },
      "execution_count": null,
      "outputs": []
    },
    {
      "cell_type": "code",
      "source": [
        "if not os.path.isdir('model_weights/'):\n",
        "  os.mkdir('model_weights/')\n",
        "model_01.save_weights(filepath=\"model_weights/vgg19_model_01.weights.h5\", overwrite=True)"
      ],
      "metadata": {
        "id": "xW-1BOPErmfh"
      },
      "execution_count": null,
      "outputs": []
    },
    {
      "cell_type": "code",
      "source": [
        "model_01.load_weights(\"model_weights/vgg19_model_01.weights.h5\")"
      ],
      "metadata": {
        "id": "OjyQ395Mwb3V"
      },
      "execution_count": null,
      "outputs": []
    },
    {
      "cell_type": "code",
      "source": [
        "model_01.summary()"
      ],
      "metadata": {
        "id": "hvYFoPWFxBFl"
      },
      "execution_count": null,
      "outputs": []
    },
    {
      "cell_type": "code",
      "source": [
        "vgg_val_eval_01 = model_01.evaluate(validation_generator)\n",
        "vgg_test_eval_01 = model_01.evaluate(test_generator)\n",
        "\n",
        "print(f\"Validation Loss: {vgg_val_eval_01[0]}\")\n",
        "print(f\"Validation Accuracy: {vgg_val_eval_01[1]}\")\n",
        "print(f\"Test Loss: {vgg_test_eval_01[0]}\")\n",
        "print(f\"Test Accuracy: {vgg_test_eval_01[1]}\")"
      ],
      "metadata": {
        "id": "fN-zPsjSxEWd"
      },
      "execution_count": null,
      "outputs": []
    },
    {
      "cell_type": "code",
      "source": [
        "filenames = test_generator.filenames\n",
        "nb_sample = len(filenames)\n",
        "\n",
        "vgg_prediction_01 = model_01.predict(test_generator, steps=nb_sample, verbose=1)\n",
        "y_pred = np.argmax(vgg_prediction_01, axis=1)"
      ],
      "metadata": {
        "id": "Lc-PCV2Px4nj"
      },
      "execution_count": null,
      "outputs": []
    },
    {
      "cell_type": "code",
      "source": [
        "# Incremental unfreezing and fine tuning\n",
        "base_model = VGG19(include_top=False,\n",
        "                   input_shape=(240,240,3))\n",
        "base_model_layer_names = [layer.name for layer in base_model.layers]\n",
        "\n",
        "x = base_model.output\n",
        "flat = Flatten()(x)\n",
        "\n",
        "class_1 = Dense(4608, activation = 'relu')(flat)\n",
        "drop_out = Dropout(0.2)(class_1)\n",
        "class_2 = Dense(1152, activation = 'relu')(drop_out)\n",
        "output = Dense(2, activation = 'softmax')(class_2)\n",
        "\n",
        "model_02 = Model(inputs=base_model.input, outputs=output)\n",
        "model_02.load_weights(\"model_weights/vgg19_model_01.weights.h5\")\n",
        "\n",
        "set_trainable = False\n",
        "for layer in base_model.layers:\n",
        "  if layer.name in ['block5_conv4','block5_conv3']:\n",
        "    set_trainable = True\n",
        "  if set_trainable:\n",
        "    layer.trainable = True\n",
        "  else:\n",
        "    layer.trainable = False\n",
        "\n",
        "print(model_02.summary())"
      ],
      "metadata": {
        "id": "EM3LP155yTf0"
      },
      "execution_count": null,
      "outputs": []
    },
    {
      "cell_type": "code",
      "source": [
        "optimizer = SGD(learning_rate=0.0001, decay = 1e-6, momentum = 0.9, nesterov = True)\n",
        "loss = 'categorical_crossentropy'\n",
        "\n",
        "model_02.compile(optimizer=optimizer,\n",
        "              loss=loss,\n",
        "              metrics=['accuracy'])"
      ],
      "metadata": {
        "id": "xHVZwOVVysDu"
      },
      "execution_count": null,
      "outputs": []
    },
    {
      "cell_type": "code",
      "source": [
        "history_02 = model_02.fit(train_generator,\n",
        "             steps_per_epoch=10,\n",
        "             epochs=20,\n",
        "             callbacks=[early_stopping, model_checkpoint, reduce_lr_or_plateau],\n",
        "             validation_data=validation_generator)"
      ],
      "metadata": {
        "id": "9zPiAxvJ1QI5"
      },
      "execution_count": null,
      "outputs": []
    },
    {
      "cell_type": "code",
      "source": [
        "if not os.path.isdir('model_weights/'):\n",
        "  os.mkdir('model_weights/')\n",
        "model_02.save_weights(filepath=\"model_weights/vgg19_model_02.weights.h5\", overwrite=True)"
      ],
      "metadata": {
        "id": "SCDDvh1q3Bgn"
      },
      "execution_count": null,
      "outputs": []
    },
    {
      "cell_type": "code",
      "source": [
        "vgg_val_eval_02 = model_02.evaluate(validation_generator)\n",
        "vgg_test_eval_02 = model_02.evaluate(test_generator)\n",
        "\n",
        "print(f\"Validation Loss: {vgg_val_eval_02[0]}\")\n",
        "print(f\"Validation Accuracy: {vgg_val_eval_02[1]}\")\n",
        "print(f\"Test Loss: {vgg_test_eval_02[0]}\")\n",
        "print(f\"Test Accuracy: {vgg_test_eval_02[1]}\")"
      ],
      "metadata": {
        "id": "qHMPVtQG3Ri1"
      },
      "execution_count": null,
      "outputs": []
    },
    {
      "cell_type": "code",
      "source": [
        "# Unfreezing the entire network\n",
        "# Incremental unfreezing and fine tuning\n",
        "base_model = VGG19(include_top=False,\n",
        "                   input_shape=(240,240,3))\n",
        "base_model_layer_names = [layer.name for layer in base_model.layers]\n",
        "\n",
        "x = base_model.output\n",
        "flat = Flatten()(x)\n",
        "\n",
        "class_1 = Dense(4608, activation = 'relu')(flat)\n",
        "drop_out = Dropout(0.2)(class_1)\n",
        "class_2 = Dense(1152, activation = 'relu')(drop_out)\n",
        "output = Dense(2, activation = 'softmax')(class_2)\n",
        "\n",
        "model_03 = Model(inputs=base_model.input, outputs=output)\n",
        "model_03.load_weights(\"model_weights/vgg19_model_02.weights.h5\")"
      ],
      "metadata": {
        "id": "unoQ1JLr1ZHt"
      },
      "execution_count": null,
      "outputs": []
    },
    {
      "cell_type": "code",
      "source": [
        "model_03.summary()"
      ],
      "metadata": {
        "id": "cE6q0Q-S2wBv"
      },
      "execution_count": null,
      "outputs": []
    },
    {
      "cell_type": "code",
      "source": [
        "optimizer = SGD(learning_rate=0.0001, decay = 1e-6, momentum = 0.9, nesterov = True)\n",
        "loss = 'categorical_crossentropy'\n",
        "\n",
        "model_03.compile(optimizer=optimizer,\n",
        "              loss=loss,\n",
        "              metrics=['accuracy'])"
      ],
      "metadata": {
        "id": "00vFTNDk2sMf"
      },
      "execution_count": null,
      "outputs": []
    },
    {
      "cell_type": "code",
      "source": [
        "history_03 = model_03.fit(train_generator,\n",
        "             steps_per_epoch=10,\n",
        "             epochs=20,\n",
        "             callbacks=[early_stopping, model_checkpoint, reduce_lr_or_plateau],\n",
        "             validation_data=validation_generator)"
      ],
      "metadata": {
        "id": "PQPEkmPe2u6p"
      },
      "execution_count": null,
      "outputs": []
    },
    {
      "cell_type": "code",
      "source": [
        "if not os.path.isdir('model_weights/'):\n",
        "  os.mkdir('model_weights/')\n",
        "model_03.save_weights(filepath=\"model_weights/vgg19_model_03.weights.h5\", overwrite=True)"
      ],
      "metadata": {
        "id": "xIoPNW6i3681"
      },
      "execution_count": null,
      "outputs": []
    },
    {
      "cell_type": "code",
      "source": [
        "vgg_val_eval_03 = model_03.evaluate(validation_generator)\n",
        "vgg_test_eval_03 = model_03.evaluate(test_generator)\n",
        "\n",
        "print(f\"Validation Loss: {vgg_val_eval_03[0]}\")\n",
        "print(f\"Validation Accuracy: {vgg_val_eval_03[1]}\")\n",
        "print(f\"Test Loss: {vgg_test_eval_03[0]}\")\n",
        "print(f\"Test Accuracy: {vgg_test_eval_03[1]}\")\n"
      ],
      "metadata": {
        "colab": {
          "base_uri": "https://localhost:8080/"
        },
        "id": "18_3s6Td68F5",
        "outputId": "a44370fa-aaf1-456b-f550-e70d53f42b32"
      },
      "execution_count": 96,
      "outputs": [
        {
          "output_type": "stream",
          "name": "stdout",
          "text": [
            "\u001b[1m10/10\u001b[0m \u001b[32m━━━━━━━━━━━━━━━━━━━━\u001b[0m\u001b[37m\u001b[0m \u001b[1m2s\u001b[0m 201ms/step - accuracy: 0.9032 - loss: 0.2471\n",
            "\u001b[1m10/10\u001b[0m \u001b[32m━━━━━━━━━━━━━━━━━━━━\u001b[0m\u001b[37m\u001b[0m \u001b[1m2s\u001b[0m 202ms/step - accuracy: 0.8907 - loss: 0.2444\n",
            "Validation Loss: 0.25228965282440186\n",
            "Validation Accuracy: 0.8964401483535767\n",
            "Test Loss: 0.2716551721096039\n",
            "Test Accuracy: 0.8774193525314331\n"
          ]
        }
      ]
    },
    {
      "cell_type": "code",
      "source": [
        "# prompt: calculate the f1 score for model 3\n",
        "\n",
        "import numpy as np\n",
        "from sklearn.metrics import f1_score, classification_report\n",
        "\n",
        "filenames = test_generator.filenames\n",
        "nb_sample = len(filenames)\n",
        "\n",
        "# Get true labels by iterating through the generator\n",
        "y_true = []\n",
        "i = 0\n",
        "for inputs, labels in test_generator:\n",
        "    for label in labels:\n",
        "        y_true.append(np.argmax(label))\n",
        "    i += 1\n",
        "    if i * test_generator.batch_size >= nb_sample:\n",
        "        break\n",
        "\n",
        "vgg_prediction_03 = model_03.predict(test_generator, steps=nb_sample, verbose=1)\n",
        "y_pred_03 = np.argmax(vgg_prediction_03, axis=1)\n",
        "\n",
        "# Calculate F1 score for model_03\n",
        "f1_03 = f1_score(y_true, y_pred_03)\n",
        "print(f\"F1 Score for Model 03: {f1_03}\")\n",
        "\n",
        "# You can also print a full classification report\n",
        "print(\"\\nClassification Report for Model 03:\")\n",
        "print(classification_report(y_true, y_pred_03, target_names=['non-tumorous', 'tumorous']))"
      ],
      "metadata": {
        "colab": {
          "base_uri": "https://localhost:8080/"
        },
        "id": "8qaqhKRt7Jjx",
        "outputId": "c2ceb023-9558-4e1d-a47b-e02dc9e78db9"
      },
      "execution_count": 98,
      "outputs": [
        {
          "output_type": "stream",
          "name": "stdout",
          "text": [
            "\u001b[1m310/310\u001b[0m \u001b[32m━━━━━━━━━━━━━━━━━━━━\u001b[0m\u001b[37m\u001b[0m \u001b[1m2s\u001b[0m 6ms/step    \n"
          ]
        },
        {
          "output_type": "stream",
          "name": "stderr",
          "text": [
            "/usr/local/lib/python3.11/dist-packages/keras/src/trainers/epoch_iterator.py:107: UserWarning: Your input ran out of data; interrupting training. Make sure that your dataset or generator can generate at least `steps_per_epoch * epochs` batches. You may need to use the `.repeat()` function when building your dataset.\n",
            "  self._interrupted_warning()\n"
          ]
        },
        {
          "output_type": "stream",
          "name": "stdout",
          "text": [
            "F1 Score for Model 03: 0.875\n",
            "\n",
            "Classification Report for Model 03:\n",
            "              precision    recall  f1-score   support\n",
            "\n",
            "non-tumorous       0.82      0.95      0.88       147\n",
            "    tumorous       0.94      0.82      0.88       163\n",
            "\n",
            "    accuracy                           0.88       310\n",
            "   macro avg       0.88      0.88      0.88       310\n",
            "weighted avg       0.89      0.88      0.88       310\n",
            "\n"
          ]
        }
      ]
    },
    {
      "cell_type": "code",
      "source": [
        "# prompt: plot the roc curve of model 3\n",
        "\n",
        "import matplotlib.pyplot as plt\n",
        "from sklearn.metrics import roc_curve, auc\n",
        "\n",
        "# Get the predicted probabilities for the positive class (class 1)\n",
        "# This assumes the second column of the prediction output corresponds to the positive class\n",
        "y_pred_proba_03 = vgg_prediction_03[:, 1]\n",
        "\n",
        "# Calculate the false positive rate (fpr) and true positive rate (tpr) for model_03\n",
        "fpr_03, tpr_03, thresholds_03 = roc_curve(y_true, y_pred_proba_03)\n",
        "\n",
        "# Calculate the Area Under the Curve (AUC) for model_03\n",
        "roc_auc_03 = auc(fpr_03, tpr_03)\n",
        "\n",
        "# Plot the ROC curve for model_03\n",
        "plt.figure()\n",
        "plt.plot(fpr_03, tpr_03, color='darkorange', lw=2, label=f'ROC curve (area = {roc_auc_03:.2f})')\n",
        "plt.plot([0, 1], [0, 1], color='navy', lw=2, linestyle='--')\n",
        "plt.xlim([0.0, 1.0])\n",
        "plt.ylim([0.0, 1.05])\n",
        "plt.xlabel('False Positive Rate')\n",
        "plt.ylabel('True Positive Rate')\n",
        "plt.title('Receiver Operating Characteristic (ROC) Curve for Model 03')\n",
        "plt.legend(loc=\"lower right\")\n",
        "plt.show()\n"
      ],
      "metadata": {
        "colab": {
          "base_uri": "https://localhost:8080/",
          "height": 477
        },
        "id": "27oyUYYZAA2L",
        "outputId": "2308c8fe-30fb-4cd9-f9ad-64f9b841b66c"
      },
      "execution_count": 100,
      "outputs": [
        {
          "output_type": "display_data",
          "data": {
            "text/plain": [
              "<Figure size 640x480 with 1 Axes>"
            ],
            "image/png": "[encoded data removed]"
          },
          "metadata": {}
        }
      ]
    },
    {
      "cell_type": "code",
      "source": [
        "# prompt: calculate the AUC\n",
        "\n",
        "from sklearn.metrics import roc_auc_score\n",
        "\n",
        "# Calculate AUC for model_03\n",
        "# We need the predicted probabilities for the positive class (tumorous)\n",
        "# vgg_prediction_03 contains probabilities for both classes, in the order [non-tumorous, tumorous]\n",
        "y_scores_03 = vgg_prediction_03[:, 1]\n",
        "\n",
        "# Calculate AUC\n",
        "auc_03 = roc_auc_score(y_true, y_scores_03)\n",
        "print(f\"\\nAUC for Model 03: {auc_03}\")\n"
      ],
      "metadata": {
        "colab": {
          "base_uri": "https://localhost:8080/"
        },
        "id": "o2rUGLzJ_Dw6",
        "outputId": "597bb3a7-d3fc-4bf5-c6ae-e91304b55acc"
      },
      "execution_count": 99,
      "outputs": [
        {
          "output_type": "stream",
          "name": "stdout",
          "text": [
            "\n",
            "AUC for Model 03: 0.961938149492926\n"
          ]
        }
      ]
    }
  ]
}